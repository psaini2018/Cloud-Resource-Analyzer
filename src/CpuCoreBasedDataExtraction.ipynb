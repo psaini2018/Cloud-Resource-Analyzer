{
 "cells": [
  {
   "cell_type": "code",
   "execution_count": 4,
   "metadata": {},
   "outputs": [],
   "source": [
    "import pandas as pd\n",
    "import os\n",
    "import glob"
   ]
  },
  {
   "cell_type": "code",
   "execution_count": 5,
   "metadata": {},
   "outputs": [],
   "source": [
    "filepath = \"/home/julian/CMPE295/DataSet/GWA-T-13_Materna-Workload-Traces/Materna-Trace-1/\"\n",
    "modFilepath = filepath + \"ModifiedData/\""
   ]
  },
  {
   "cell_type": "markdown",
   "metadata": {},
   "source": [
    "### Modified the file format into a comma seperated .csv files"
   ]
  },
  {
   "cell_type": "code",
   "execution_count": 7,
   "metadata": {},
   "outputs": [
    {
     "name": "stdout",
     "output_type": "stream",
     "text": [
      "/home/julian/CMPE295/DataSet/GWA-T-13_Materna-Workload-Traces/Materna-Trace-1/\n"
     ]
    }
   ],
   "source": [
    "print(filepath)\n",
    "all_files = glob.glob(filepath + '*.csv')\n",
    "#print(all_files)\n",
    "for filename in all_files:\n",
    "    pdData = pd.read_csv(filename, delimiter=\";\")\n",
    "    pdData['CPU usage [%]'] = pdData['CPU usage [%]'].str.replace(',','.')\n",
    "    pdData['Memory usage [%]'] = pdData['Memory usage [%]'].str.replace(',','.')    \n",
    "    head, tail = os.path.split(filename)\n",
    "    newFname = modFilepath + tail\n",
    "    #print(newFname)\n",
    "    pdData.to_csv(newFname)"
   ]
  },
  {
   "cell_type": "markdown",
   "metadata": {},
   "source": [
    "### Creates .csv files for CPU usage based on number of CPU cores"
   ]
  },
  {
   "cell_type": "code",
   "execution_count": 8,
   "metadata": {},
   "outputs": [],
   "source": [
    "all_modFiles = glob.glob(modFilepath + '*.csv')\n",
    "i = 0\n",
    "dataset = []\n",
    "cpucores = [1, 2, 4, 8]\n",
    "for i in cpucores:\n",
    "    dataset = []\n",
    "    j = 0\n",
    "    for fileN in all_modFiles:\n",
    "        pdData = pd.read_csv(fileN)\n",
    "        pdData = pdData.rename(columns = {'CPU cores':'CPU_cores'})\n",
    "        check = any(pdData['CPU_cores'] == i)\n",
    "        if(check):\n",
    "            if(j == 0):\n",
    "                d = pdData[['Timestamp', 'CPU_cores', 'CPU usage [%]']]\n",
    "                j += 1\n",
    "            else:\n",
    "                d = pdData[['CPU usage [%]']]\n",
    "            dataset.append(d)            \n",
    "    finalResult = pd.concat(dataset, axis=1, sort=False)    \n",
    "    consolidatedFile = modFilepath + \"cpu_Usage_\"+str(i)+\".csv\"\n",
    "    finalResult.to_csv(consolidatedFile)"
   ]
  },
  {
   "cell_type": "markdown",
   "metadata": {},
   "source": [
    "### Creates .csv files for Memory usage based on number of CPU cores"
   ]
  },
  {
   "cell_type": "code",
   "execution_count": 9,
   "metadata": {},
   "outputs": [],
   "source": [
    "dataset = []\n",
    "cpucores = [1, 2, 4, 8]\n",
    "for i in cpucores:\n",
    "    dataset = []\n",
    "    j = 0\n",
    "    for fileN in all_modFiles:\n",
    "        pdData = pd.read_csv(fileN)\n",
    "        pdData = pdData.rename(columns = {'CPU cores':'CPU_cores'})\n",
    "        check = any(pdData['CPU_cores'] == i)\n",
    "        if(check):\n",
    "            if(j == 0):\n",
    "                d = pdData[['Timestamp', 'CPU_cores', 'Memory usage [%]']]\n",
    "                j += 1\n",
    "            else:\n",
    "                d = pdData[['Memory usage [%]']]\n",
    "            dataset.append(d)            \n",
    "    finalResult = pd.concat(dataset, axis=1, sort=False)    \n",
    "    consolidatedFile = modFilepath + \"Memory_Usage_\"+str(i)+\".csv\"\n",
    "    finalResult.to_csv(consolidatedFile)"
   ]
  },
  {
   "cell_type": "markdown",
   "metadata": {},
   "source": [
    "### Create .csv files for Disk write throughput  based on number of CPU cores"
   ]
  },
  {
   "cell_type": "code",
   "execution_count": 10,
   "metadata": {},
   "outputs": [],
   "source": [
    "dataset = []\n",
    "cpucores = [1, 2, 4, 8]\n",
    "for i in cpucores:\n",
    "    dataset = []\n",
    "    j = 0\n",
    "    for fileN in all_modFiles:\n",
    "        pdData = pd.read_csv(fileN)\n",
    "        pdData = pdData.rename(columns = {'CPU cores':'CPU_cores'})\n",
    "        check = any(pdData['CPU_cores'] == i)\n",
    "        if(check):\n",
    "            if(j == 0):\n",
    "                d = pdData[['Timestamp', 'CPU_cores', 'Disk write throughput [KB/s]']]\n",
    "                j += 1\n",
    "            else:\n",
    "                d = pdData[['Disk write throughput [KB/s]']]\n",
    "            dataset.append(d)            \n",
    "    finalResult = pd.concat(dataset, axis=1, sort=False)    \n",
    "    consolidatedFile = modFilepath + \"Disk_write_throughput_\"+str(i)+\".csv\"\n",
    "    finalResult.to_csv(consolidatedFile)"
   ]
  },
  {
   "cell_type": "markdown",
   "metadata": {},
   "source": [
    "### Create .csv files for Network received throughput  based on number of CPU cores"
   ]
  },
  {
   "cell_type": "code",
   "execution_count": 12,
   "metadata": {},
   "outputs": [],
   "source": [
    "dataset = []\n",
    "cpucores = [1, 2, 4, 8]\n",
    "for i in cpucores:\n",
    "    dataset = []\n",
    "    j = 0\n",
    "    for fileN in all_modFiles:\n",
    "        pdData = pd.read_csv(fileN)\n",
    "        pdData = pdData.rename(columns = {'CPU cores':'CPU_cores'})\n",
    "        check = any(pdData['CPU_cores'] == i)\n",
    "        if(check):\n",
    "            if(j == 0):\n",
    "                d = pdData[['Timestamp', 'CPU_cores', 'Network received throughput [KB/s]']]\n",
    "                j += 1\n",
    "            else:\n",
    "                d = pdData[['Network received throughput [KB/s]']]\n",
    "            dataset.append(d)            \n",
    "    finalResult = pd.concat(dataset, axis=1, sort=False)    \n",
    "    consolidatedFile = modFilepath + \"Network_received_throughput_\"+str(i)+\".csv\"\n",
    "    finalResult.to_csv(consolidatedFile)"
   ]
  },
  {
   "cell_type": "markdown",
   "metadata": {},
   "source": [
    "### Create .csv files for Network transmitted throughput based on number of CPU cores"
   ]
  },
  {
   "cell_type": "code",
   "execution_count": null,
   "metadata": {},
   "outputs": [],
   "source": [
    "dataset = []\n",
    "cpucores = [1, 2, 4, 8]\n",
    "for i in cpucores:\n",
    "    dataset = []\n",
    "    j = 0\n",
    "    for fileN in all_modFiles:\n",
    "        pdData = pd.read_csv(fileN)\n",
    "        pdData = pdData.rename(columns = {'CPU cores':'CPU_cores'})\n",
    "        check = any(pdData['CPU_cores'] == i)\n",
    "        if(check):\n",
    "            if(j == 0):\n",
    "                d = pdData[['Timestamp', 'CPU_cores', 'Network transmitted throughput [KB/s]']]\n",
    "                j += 1\n",
    "            else:\n",
    "                d = pdData[['Network transmitted throughput [KB/s]']]\n",
    "            dataset.append(d)            \n",
    "    finalResult = pd.concat(dataset, axis=1, sort=False)    \n",
    "    consolidatedFile = modFilepath + \"Network_transmitted_throughput_\"+str(i)+\".csv\"\n",
    "    finalResult.to_csv(consolidatedFile)"
   ]
  },
  {
   "cell_type": "markdown",
   "metadata": {},
   "source": [
    "### Create .csv files for Disk Size based on number of CPU cores"
   ]
  },
  {
   "cell_type": "code",
   "execution_count": null,
   "metadata": {},
   "outputs": [],
   "source": [
    "dataset = []\n",
    "cpucores = [1, 2, 4, 8]\n",
    "for i in cpucores:\n",
    "    dataset = []\n",
    "    j = 0\n",
    "    for fileN in all_modFiles:\n",
    "        pdData = pd.read_csv(fileN)\n",
    "        pdData = pdData.rename(columns = {'CPU cores':'CPU_cores'})\n",
    "        check = any(pdData['CPU_cores'] == i)\n",
    "        if(check):\n",
    "            if(j == 0):\n",
    "                d = pdData[['Timestamp', 'CPU_cores', 'Disk size [GB]']]\n",
    "                j += 1\n",
    "            else:\n",
    "                d = pdData[['Disk size [GB]']]\n",
    "            dataset.append(d)            \n",
    "    finalResult = pd.concat(dataset, axis=1, sort=False)    \n",
    "    consolidatedFile = modFilepath + \"Disk_size_\"+str(i)+\".csv\"\n",
    "    finalResult.to_csv(consolidatedFile)"
   ]
  },
  {
   "cell_type": "code",
   "execution_count": null,
   "metadata": {},
   "outputs": [],
   "source": []
  }
 ],
 "metadata": {
  "kernelspec": {
   "display_name": "Python 3",
   "language": "python",
   "name": "python3"
  },
  "language_info": {
   "codemirror_mode": {
    "name": "ipython",
    "version": 3
   },
   "file_extension": ".py",
   "mimetype": "text/x-python",
   "name": "python",
   "nbconvert_exporter": "python",
   "pygments_lexer": "ipython3",
   "version": "3.6.8"
  }
 },
 "nbformat": 4,
 "nbformat_minor": 2
}
